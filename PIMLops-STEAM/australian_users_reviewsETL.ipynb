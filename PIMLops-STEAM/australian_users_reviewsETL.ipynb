{
 "cells": [
  {
   "cell_type": "markdown",
   "metadata": {},
   "source": [
    "# ***ETL de nuestro dataset Australian_user_reviews***"
   ]
  },
  {
   "cell_type": "code",
   "execution_count": 91,
   "metadata": {},
   "outputs": [],
   "source": [
    "import numpy as np\n",
    "import pandas as pd\n",
    "from textblob import TextBlob\n",
    "import ast\n",
    "import matplotlib.pyplot as plt\n",
    "import parquet\n",
    "import pyarrow\n",
    "import warnings\n",
    "warnings.filterwarnings('ignore')\n"
   ]
  },
  {
   "cell_type": "markdown",
   "metadata": {},
   "source": [
    "# Procedemos a abrir nuestro archivo"
   ]
  },
  {
   "cell_type": "code",
   "execution_count": 92,
   "metadata": {},
   "outputs": [],
   "source": [
    "#Crear una lista vacía llamada \"rows\" donde almacenaremos los datos del archivo JSON.\n",
    "rows = []\n",
    "#Abrir el archivo \"user_reviews.json/australian_user_reviews.json\" con la codificación MacRoman.\n",
    "with open(\"D:\\HENRY\\ProyectoPIMLops\\PIMLops-STEAM/JSON/australian_user_reviews.json\", encoding='utf-8') as f:\n",
    "    # Leer cada línea del archivo.\n",
    "    for line in f.readlines():\n",
    "        # Utilizar \"ast.literal_eval\" para convertir cada línea en un diccionario de Python\n",
    "        # y agregarlo a la lista \"rows\".\n",
    "        rows.append(ast.literal_eval(line))\n",
    "\n",
    "#Crear un DataFrame de Pandas a partir de la lista de diccionarios \"rows\".\n",
    "df_reviews = pd.DataFrame(rows)"
   ]
  },
  {
   "cell_type": "markdown",
   "metadata": {},
   "source": [
    "### Revisamos nulos y vamos procesando la limpieza de datos"
   ]
  },
  {
   "cell_type": "code",
   "execution_count": 93,
   "metadata": {},
   "outputs": [
    {
     "data": {
      "text/html": [
       "<div>\n",
       "<style scoped>\n",
       "    .dataframe tbody tr th:only-of-type {\n",
       "        vertical-align: middle;\n",
       "    }\n",
       "\n",
       "    .dataframe tbody tr th {\n",
       "        vertical-align: top;\n",
       "    }\n",
       "\n",
       "    .dataframe thead th {\n",
       "        text-align: right;\n",
       "    }\n",
       "</style>\n",
       "<table border=\"1\" class=\"dataframe\">\n",
       "  <thead>\n",
       "    <tr style=\"text-align: right;\">\n",
       "      <th></th>\n",
       "      <th>user_id</th>\n",
       "      <th>user_url</th>\n",
       "      <th>reviews</th>\n",
       "    </tr>\n",
       "  </thead>\n",
       "  <tbody>\n",
       "    <tr>\n",
       "      <th>0</th>\n",
       "      <td>76561197970982479</td>\n",
       "      <td>http://steamcommunity.com/profiles/76561197970...</td>\n",
       "      <td>[{'funny': '', 'posted': 'Posted November 5, 2...</td>\n",
       "    </tr>\n",
       "    <tr>\n",
       "      <th>1</th>\n",
       "      <td>js41637</td>\n",
       "      <td>http://steamcommunity.com/id/js41637</td>\n",
       "      <td>[{'funny': '', 'posted': 'Posted June 24, 2014...</td>\n",
       "    </tr>\n",
       "    <tr>\n",
       "      <th>2</th>\n",
       "      <td>evcentric</td>\n",
       "      <td>http://steamcommunity.com/id/evcentric</td>\n",
       "      <td>[{'funny': '', 'posted': 'Posted February 3.',...</td>\n",
       "    </tr>\n",
       "    <tr>\n",
       "      <th>3</th>\n",
       "      <td>doctr</td>\n",
       "      <td>http://steamcommunity.com/id/doctr</td>\n",
       "      <td>[{'funny': '', 'posted': 'Posted October 14, 2...</td>\n",
       "    </tr>\n",
       "    <tr>\n",
       "      <th>4</th>\n",
       "      <td>maplemage</td>\n",
       "      <td>http://steamcommunity.com/id/maplemage</td>\n",
       "      <td>[{'funny': '3 people found this review funny',...</td>\n",
       "    </tr>\n",
       "  </tbody>\n",
       "</table>\n",
       "</div>"
      ],
      "text/plain": [
       "             user_id                                           user_url  \\\n",
       "0  76561197970982479  http://steamcommunity.com/profiles/76561197970...   \n",
       "1            js41637               http://steamcommunity.com/id/js41637   \n",
       "2          evcentric             http://steamcommunity.com/id/evcentric   \n",
       "3              doctr                 http://steamcommunity.com/id/doctr   \n",
       "4          maplemage             http://steamcommunity.com/id/maplemage   \n",
       "\n",
       "                                             reviews  \n",
       "0  [{'funny': '', 'posted': 'Posted November 5, 2...  \n",
       "1  [{'funny': '', 'posted': 'Posted June 24, 2014...  \n",
       "2  [{'funny': '', 'posted': 'Posted February 3.',...  \n",
       "3  [{'funny': '', 'posted': 'Posted October 14, 2...  \n",
       "4  [{'funny': '3 people found this review funny',...  "
      ]
     },
     "execution_count": 93,
     "metadata": {},
     "output_type": "execute_result"
    }
   ],
   "source": [
    "df_reviews.head()"
   ]
  },
  {
   "cell_type": "code",
   "execution_count": 94,
   "metadata": {},
   "outputs": [
    {
     "name": "stdout",
     "output_type": "stream",
     "text": [
      "user_id     0\n",
      "user_url    0\n",
      "reviews     0\n",
      "dtype: int64\n"
     ]
    }
   ],
   "source": [
    "#revisamos los nulos \n",
    "nulos_por_columna = df_reviews.isnull().sum()\n",
    "print(nulos_por_columna)"
   ]
  },
  {
   "cell_type": "markdown",
   "metadata": {},
   "source": [
    "***Desanidamos el diccionario de la columna \"reviews\"***"
   ]
  },
  {
   "cell_type": "code",
   "execution_count": 95,
   "metadata": {},
   "outputs": [],
   "source": [
    "# desanidar el diccionario de la columna reviews\n",
    "# cada elemento de la lista en la columna 'reviews' se convierte en una fila separada, y las demás columnas se replican en cada fila resultante.\n",
    "desanidando = df_reviews.explode('reviews') \n",
    "# combinar las columnas del DataFrame desanidando con las columnas de una nueva tabla que se crea a partir de la columna 'reviews' del DataFrame desanidando.\n",
    "df_user_reviews = pd.concat([desanidando.drop(['reviews'], axis=1), desanidando['reviews'].apply(pd.Series)], axis=1) "
   ]
  },
  {
   "cell_type": "code",
   "execution_count": 96,
   "metadata": {},
   "outputs": [],
   "source": [
    "df_reviews = df_user_reviews"
   ]
  },
  {
   "cell_type": "code",
   "execution_count": 97,
   "metadata": {},
   "outputs": [],
   "source": [
    "df_user_reviews = df_user_reviews.drop_duplicates(subset='review', keep='first')\n"
   ]
  },
  {
   "cell_type": "markdown",
   "metadata": {},
   "source": [
    "Eliminamos columnas irrelevantes"
   ]
  },
  {
   "cell_type": "code",
   "execution_count": 98,
   "metadata": {},
   "outputs": [],
   "source": [
    "#Eliminamos la ultima columna de nuestro dataframe, que no nos sirve\n",
    "df_user_reviews = df_user_reviews.iloc[:, :-1]"
   ]
  },
  {
   "cell_type": "code",
   "execution_count": 99,
   "metadata": {},
   "outputs": [
    {
     "name": "stdout",
     "output_type": "stream",
     "text": [
      "<class 'pandas.core.frame.DataFrame'>\n",
      "Index: 55314 entries, 0 to 25798\n",
      "Data columns (total 9 columns):\n",
      " #   Column       Non-Null Count  Dtype \n",
      "---  ------       --------------  ----- \n",
      " 0   user_id      55314 non-null  object\n",
      " 1   user_url     55314 non-null  object\n",
      " 2   funny        55313 non-null  object\n",
      " 3   posted       55313 non-null  object\n",
      " 4   last_edited  55313 non-null  object\n",
      " 5   item_id      55313 non-null  object\n",
      " 6   helpful      55313 non-null  object\n",
      " 7   recommend    55313 non-null  object\n",
      " 8   review       55313 non-null  object\n",
      "dtypes: object(9)\n",
      "memory usage: 4.2+ MB\n"
     ]
    }
   ],
   "source": [
    "df_user_reviews.info()"
   ]
  },
  {
   "cell_type": "code",
   "execution_count": 100,
   "metadata": {},
   "outputs": [],
   "source": [
    "#eliminamos \"funny\" y \"last edited\"\n",
    "df_user_reviews.drop(['funny', 'last_edited'], axis=1, inplace=True)"
   ]
  },
  {
   "cell_type": "code",
   "execution_count": 101,
   "metadata": {},
   "outputs": [
    {
     "data": {
      "text/plain": [
       "user_id      0\n",
       "user_url     0\n",
       "posted       1\n",
       "item_id      1\n",
       "helpful      1\n",
       "recommend    1\n",
       "review       1\n",
       "dtype: int64"
      ]
     },
     "execution_count": 101,
     "metadata": {},
     "output_type": "execute_result"
    }
   ],
   "source": [
    "df_user_reviews.isna().sum()"
   ]
  },
  {
   "cell_type": "code",
   "execution_count": 102,
   "metadata": {},
   "outputs": [],
   "source": [
    "# extraer el año de la columna 'posted' y almacenarlo en una nueva columna 'year_posted'\n",
    "df_user_reviews['year_posted'] = df_user_reviews['posted'].str.extract(r'(\\d{4})') \n",
    "# eliminar la columna 'posted' del DataFrame df_reviews_user\n",
    "df_user_reviews.drop('posted' , axis = 1, inplace = True) "
   ]
  },
  {
   "cell_type": "code",
   "execution_count": 103,
   "metadata": {},
   "outputs": [],
   "source": [
    "df_user_reviews = df_user_reviews.rename(columns={'year_posted': 'year'})"
   ]
  },
  {
   "cell_type": "code",
   "execution_count": 104,
   "metadata": {},
   "outputs": [],
   "source": [
    "#eliminamos helpful\n",
    "df_user_reviews.drop(['helpful'], axis=1, inplace=True)"
   ]
  },
  {
   "cell_type": "markdown",
   "metadata": {},
   "source": [
    "Observamos los value counts para calcular la media en valores faltantes de nuestra columna"
   ]
  },
  {
   "cell_type": "code",
   "execution_count": 105,
   "metadata": {},
   "outputs": [
    {
     "data": {
      "text/plain": [
       "year\n",
       "2014    0.449068\n",
       "2015    0.376969\n",
       "2013    0.136931\n",
       "2012    0.024506\n",
       "2011    0.011085\n",
       "2010    0.001440\n",
       "Name: proportion, dtype: float64"
      ]
     },
     "execution_count": 105,
     "metadata": {},
     "output_type": "execute_result"
    }
   ],
   "source": [
    "df_user_reviews['year'].value_counts(normalize=True)"
   ]
  },
  {
   "cell_type": "code",
   "execution_count": 106,
   "metadata": {},
   "outputs": [],
   "source": [
    "#Utilizamos la mediana para rellenar los datos faltantes en la columna year\n",
    "df_user_reviews['year'].fillna(df_user_reviews['year'].median(), inplace=True)"
   ]
  },
  {
   "cell_type": "code",
   "execution_count": 107,
   "metadata": {},
   "outputs": [
    {
     "data": {
      "text/plain": [
       "0"
      ]
     },
     "execution_count": 107,
     "metadata": {},
     "output_type": "execute_result"
    }
   ],
   "source": [
    "df_user_reviews.year.isna().sum()"
   ]
  },
  {
   "cell_type": "markdown",
   "metadata": {},
   "source": [
    "Transformamos year a int"
   ]
  },
  {
   "cell_type": "code",
   "execution_count": 108,
   "metadata": {},
   "outputs": [],
   "source": [
    "df_user_reviews['year'] = df_user_reviews['year'].astype(int)"
   ]
  },
  {
   "cell_type": "code",
   "execution_count": 109,
   "metadata": {},
   "outputs": [],
   "source": [
    "#Procedemos a eliminar las filas de usuarios que no hicieron ninguna reseña ni recomiendan un juego en específico\n",
    "df_user_reviews = df_user_reviews.dropna(subset=['item_id', 'recommend', 'review'])"
   ]
  },
  {
   "cell_type": "markdown",
   "metadata": {},
   "source": [
    "***Añadimos el análisis de sentimiento a nuestro dataset***"
   ]
  },
  {
   "cell_type": "code",
   "execution_count": 110,
   "metadata": {},
   "outputs": [],
   "source": [
    "#realizamos SENTIMENT ANALYSIS\n",
    "def get_sentiment(text):\n",
    "    # Crear un objeto TextBlob\n",
    "    blob = TextBlob(str(text))\n",
    "    # Obtener el análisis de sentimiento\n",
    "    sentiment = blob.sentiment.polarity\n",
    "    # Devolver el análisis de sentimiento\n",
    "    if sentiment < 0:\n",
    "        return 0\n",
    "    elif sentiment == 0:\n",
    "        return 1\n",
    "    else:\n",
    "        return 2\n"
   ]
  },
  {
   "cell_type": "markdown",
   "metadata": {},
   "source": [
    "aplicamos la funcion para tener el sentimiento de las reseñas"
   ]
  },
  {
   "cell_type": "code",
   "execution_count": 111,
   "metadata": {},
   "outputs": [],
   "source": [
    "df_user_reviews['sentiment_analysis'] = df_user_reviews['review'].apply(get_sentiment)"
   ]
  },
  {
   "cell_type": "code",
   "execution_count": 112,
   "metadata": {},
   "outputs": [
    {
     "name": "stdout",
     "output_type": "stream",
     "text": [
      "sentiment_analysis\n",
      "2    31127\n",
      "0    12381\n",
      "1    11805\n",
      "Name: count, dtype: int64\n"
     ]
    }
   ],
   "source": [
    "# Contar la cantidad de cada valor en la columna 'sentimiento'\n",
    "conteo_sentimientos =df_user_reviews['sentiment_analysis'].value_counts()\n",
    "\n",
    "# El resultado será una Serie de pandas con la cantidad de cada valor\n",
    "print(conteo_sentimientos)"
   ]
  },
  {
   "cell_type": "markdown",
   "metadata": {},
   "source": [
    "Observamos una mayor predominancia de sentimientos positivos vs neutros y negativos en todas nuestras reseñas dadas por los usuarios"
   ]
  },
  {
   "cell_type": "code",
   "execution_count": 113,
   "metadata": {},
   "outputs": [],
   "source": [
    "# La función explode transforma cada elemento de una lista en una fila, replicando los valores del índice.\n",
    "reviews_exploded = df_user_reviews.explode('review')\n",
    "# pd.json_normalize es una función de pandas que normaliza datos semi-estructurados JSON en un dataframe plano.\n",
    "rev_normalizado = pd.json_normalize(reviews_exploded['review'])\n",
    "# reset_index con el parámetro drop=True descarta el índice actual y reemplaza con un índice por defecto (0, 1, 2, ...).\n",
    "reviews_exploded.reset_index(drop=True, inplace=True)\n",
    "rev_normalizado.reset_index(drop=True, inplace=True)\n",
    "# pd.concat concatena los dataframes a lo largo de un eje. Aquí se está eliminando la columna 'review' del dataframe 'user_reviews_explored' y luego se concatena con 'user_reviews_normalized'.\n",
    "df_user_reviews = pd.concat([reviews_exploded.drop('review',axis=1), rev_normalizado], axis=1)"
   ]
  },
  {
   "cell_type": "code",
   "execution_count": 114,
   "metadata": {},
   "outputs": [
    {
     "data": {
      "text/plain": [
       "user_id               0\n",
       "user_url              0\n",
       "item_id               0\n",
       "recommend             0\n",
       "year                  0\n",
       "sentiment_analysis    0\n",
       "dtype: int64"
      ]
     },
     "execution_count": 114,
     "metadata": {},
     "output_type": "execute_result"
    }
   ],
   "source": [
    "df_user_reviews.isna().sum()"
   ]
  },
  {
   "cell_type": "code",
   "execution_count": 115,
   "metadata": {},
   "outputs": [],
   "source": [
    "df_user_reviews.fillna('SinDato',inplace=True)"
   ]
  },
  {
   "cell_type": "markdown",
   "metadata": {},
   "source": [
    "***Rellenamos los valores faltantes con \"SinDato\" debido a que el usuario no dejó reseña y tampoco hay ID de item, se lo considera neutro***"
   ]
  },
  {
   "cell_type": "code",
   "execution_count": 116,
   "metadata": {},
   "outputs": [
    {
     "data": {
      "text/plain": [
       "user_id               0\n",
       "user_url              0\n",
       "item_id               0\n",
       "recommend             0\n",
       "year                  0\n",
       "sentiment_analysis    0\n",
       "dtype: int64"
      ]
     },
     "execution_count": 116,
     "metadata": {},
     "output_type": "execute_result"
    }
   ],
   "source": [
    "df_user_reviews.isna().sum()"
   ]
  },
  {
   "cell_type": "markdown",
   "metadata": {},
   "source": [
    "Pasamos los \"sindato\" de item id a 0"
   ]
  },
  {
   "cell_type": "code",
   "execution_count": 117,
   "metadata": {},
   "outputs": [],
   "source": [
    "df_user_reviews['item_id'] = df_user_reviews['item_id'].replace('SinDato', np.nan)\n",
    "df_user_reviews['item_id'] = df_user_reviews['item_id'].fillna(0)"
   ]
  },
  {
   "cell_type": "code",
   "execution_count": 118,
   "metadata": {},
   "outputs": [],
   "source": [
    "df_user_reviews['item_id'] = df_user_reviews['item_id'].astype(int)"
   ]
  },
  {
   "cell_type": "code",
   "execution_count": 119,
   "metadata": {},
   "outputs": [
    {
     "data": {
      "text/html": [
       "<div>\n",
       "<style scoped>\n",
       "    .dataframe tbody tr th:only-of-type {\n",
       "        vertical-align: middle;\n",
       "    }\n",
       "\n",
       "    .dataframe tbody tr th {\n",
       "        vertical-align: top;\n",
       "    }\n",
       "\n",
       "    .dataframe thead th {\n",
       "        text-align: right;\n",
       "    }\n",
       "</style>\n",
       "<table border=\"1\" class=\"dataframe\">\n",
       "  <thead>\n",
       "    <tr style=\"text-align: right;\">\n",
       "      <th></th>\n",
       "      <th>user_id</th>\n",
       "      <th>user_url</th>\n",
       "      <th>item_id</th>\n",
       "      <th>recommend</th>\n",
       "      <th>year</th>\n",
       "      <th>sentiment_analysis</th>\n",
       "    </tr>\n",
       "  </thead>\n",
       "  <tbody>\n",
       "    <tr>\n",
       "      <th>0</th>\n",
       "      <td>76561197970982479</td>\n",
       "      <td>http://steamcommunity.com/profiles/76561197970...</td>\n",
       "      <td>1250</td>\n",
       "      <td>True</td>\n",
       "      <td>2011</td>\n",
       "      <td>2</td>\n",
       "    </tr>\n",
       "    <tr>\n",
       "      <th>1</th>\n",
       "      <td>76561197970982479</td>\n",
       "      <td>http://steamcommunity.com/profiles/76561197970...</td>\n",
       "      <td>22200</td>\n",
       "      <td>True</td>\n",
       "      <td>2011</td>\n",
       "      <td>2</td>\n",
       "    </tr>\n",
       "    <tr>\n",
       "      <th>2</th>\n",
       "      <td>76561197970982479</td>\n",
       "      <td>http://steamcommunity.com/profiles/76561197970...</td>\n",
       "      <td>43110</td>\n",
       "      <td>True</td>\n",
       "      <td>2011</td>\n",
       "      <td>2</td>\n",
       "    </tr>\n",
       "    <tr>\n",
       "      <th>3</th>\n",
       "      <td>js41637</td>\n",
       "      <td>http://steamcommunity.com/id/js41637</td>\n",
       "      <td>251610</td>\n",
       "      <td>True</td>\n",
       "      <td>2014</td>\n",
       "      <td>2</td>\n",
       "    </tr>\n",
       "    <tr>\n",
       "      <th>4</th>\n",
       "      <td>js41637</td>\n",
       "      <td>http://steamcommunity.com/id/js41637</td>\n",
       "      <td>227300</td>\n",
       "      <td>True</td>\n",
       "      <td>2013</td>\n",
       "      <td>0</td>\n",
       "    </tr>\n",
       "  </tbody>\n",
       "</table>\n",
       "</div>"
      ],
      "text/plain": [
       "             user_id                                           user_url  \\\n",
       "0  76561197970982479  http://steamcommunity.com/profiles/76561197970...   \n",
       "1  76561197970982479  http://steamcommunity.com/profiles/76561197970...   \n",
       "2  76561197970982479  http://steamcommunity.com/profiles/76561197970...   \n",
       "3            js41637               http://steamcommunity.com/id/js41637   \n",
       "4            js41637               http://steamcommunity.com/id/js41637   \n",
       "\n",
       "   item_id  recommend  year  sentiment_analysis  \n",
       "0     1250       True  2011                   2  \n",
       "1    22200       True  2011                   2  \n",
       "2    43110       True  2011                   2  \n",
       "3   251610       True  2014                   2  \n",
       "4   227300       True  2013                   0  "
      ]
     },
     "execution_count": 119,
     "metadata": {},
     "output_type": "execute_result"
    }
   ],
   "source": [
    "#Generámos un codigo de conversión de tipo de dato para la columna \"recommend\" transformandola a booleano devolviendo True o False\n",
    "def clean_data(df_user_reviews):\n",
    "    df_user_reviews = df_user_reviews.astype({'recommend': 'bool'})\n",
    "    return df_user_reviews\n",
    "\n",
    "df_user_reviews = clean_data(df_user_reviews.copy())\n",
    "df_user_reviews.head()"
   ]
  },
  {
   "cell_type": "code",
   "execution_count": 120,
   "metadata": {},
   "outputs": [
    {
     "data": {
      "text/html": [
       "<div>\n",
       "<style scoped>\n",
       "    .dataframe tbody tr th:only-of-type {\n",
       "        vertical-align: middle;\n",
       "    }\n",
       "\n",
       "    .dataframe tbody tr th {\n",
       "        vertical-align: top;\n",
       "    }\n",
       "\n",
       "    .dataframe thead th {\n",
       "        text-align: right;\n",
       "    }\n",
       "</style>\n",
       "<table border=\"1\" class=\"dataframe\">\n",
       "  <thead>\n",
       "    <tr style=\"text-align: right;\">\n",
       "      <th></th>\n",
       "      <th>user_id</th>\n",
       "      <th>user_url</th>\n",
       "      <th>item_id</th>\n",
       "      <th>recommend</th>\n",
       "      <th>year</th>\n",
       "      <th>sentiment_analysis</th>\n",
       "    </tr>\n",
       "  </thead>\n",
       "  <tbody>\n",
       "    <tr>\n",
       "      <th>0</th>\n",
       "      <td>76561197970982479</td>\n",
       "      <td>http://steamcommunity.com/profiles/76561197970...</td>\n",
       "      <td>1250</td>\n",
       "      <td>True</td>\n",
       "      <td>2011</td>\n",
       "      <td>2</td>\n",
       "    </tr>\n",
       "    <tr>\n",
       "      <th>1</th>\n",
       "      <td>76561197970982479</td>\n",
       "      <td>http://steamcommunity.com/profiles/76561197970...</td>\n",
       "      <td>22200</td>\n",
       "      <td>True</td>\n",
       "      <td>2011</td>\n",
       "      <td>2</td>\n",
       "    </tr>\n",
       "    <tr>\n",
       "      <th>2</th>\n",
       "      <td>76561197970982479</td>\n",
       "      <td>http://steamcommunity.com/profiles/76561197970...</td>\n",
       "      <td>43110</td>\n",
       "      <td>True</td>\n",
       "      <td>2011</td>\n",
       "      <td>2</td>\n",
       "    </tr>\n",
       "    <tr>\n",
       "      <th>3</th>\n",
       "      <td>js41637</td>\n",
       "      <td>http://steamcommunity.com/id/js41637</td>\n",
       "      <td>251610</td>\n",
       "      <td>True</td>\n",
       "      <td>2014</td>\n",
       "      <td>2</td>\n",
       "    </tr>\n",
       "    <tr>\n",
       "      <th>4</th>\n",
       "      <td>js41637</td>\n",
       "      <td>http://steamcommunity.com/id/js41637</td>\n",
       "      <td>227300</td>\n",
       "      <td>True</td>\n",
       "      <td>2013</td>\n",
       "      <td>0</td>\n",
       "    </tr>\n",
       "  </tbody>\n",
       "</table>\n",
       "</div>"
      ],
      "text/plain": [
       "             user_id                                           user_url  \\\n",
       "0  76561197970982479  http://steamcommunity.com/profiles/76561197970...   \n",
       "1  76561197970982479  http://steamcommunity.com/profiles/76561197970...   \n",
       "2  76561197970982479  http://steamcommunity.com/profiles/76561197970...   \n",
       "3            js41637               http://steamcommunity.com/id/js41637   \n",
       "4            js41637               http://steamcommunity.com/id/js41637   \n",
       "\n",
       "   item_id  recommend  year  sentiment_analysis  \n",
       "0     1250       True  2011                   2  \n",
       "1    22200       True  2011                   2  \n",
       "2    43110       True  2011                   2  \n",
       "3   251610       True  2014                   2  \n",
       "4   227300       True  2013                   0  "
      ]
     },
     "execution_count": 120,
     "metadata": {},
     "output_type": "execute_result"
    }
   ],
   "source": [
    "#Generamos un código para la conversión de nuestro tipo de dato \"user_id\" a string\n",
    "def clean_data(df_user_reviews):\n",
    "    df_user_reviews = df_user_reviews.astype({'user_id': 'string'})\n",
    "    return df_user_reviews\n",
    "\n",
    "df_user_reviews = clean_data(df_user_reviews.copy())\n",
    "df_user_reviews.head()"
   ]
  },
  {
   "cell_type": "code",
   "execution_count": 121,
   "metadata": {},
   "outputs": [
    {
     "data": {
      "text/html": [
       "<div>\n",
       "<style scoped>\n",
       "    .dataframe tbody tr th:only-of-type {\n",
       "        vertical-align: middle;\n",
       "    }\n",
       "\n",
       "    .dataframe tbody tr th {\n",
       "        vertical-align: top;\n",
       "    }\n",
       "\n",
       "    .dataframe thead th {\n",
       "        text-align: right;\n",
       "    }\n",
       "</style>\n",
       "<table border=\"1\" class=\"dataframe\">\n",
       "  <thead>\n",
       "    <tr style=\"text-align: right;\">\n",
       "      <th></th>\n",
       "      <th>user_id</th>\n",
       "      <th>user_url</th>\n",
       "      <th>item_id</th>\n",
       "      <th>recommend</th>\n",
       "      <th>year</th>\n",
       "      <th>sentiment_analysis</th>\n",
       "    </tr>\n",
       "  </thead>\n",
       "  <tbody>\n",
       "    <tr>\n",
       "      <th>0</th>\n",
       "      <td>76561197970982479</td>\n",
       "      <td>http://steamcommunity.com/profiles/76561197970...</td>\n",
       "      <td>1250</td>\n",
       "      <td>True</td>\n",
       "      <td>2011</td>\n",
       "      <td>2</td>\n",
       "    </tr>\n",
       "    <tr>\n",
       "      <th>1</th>\n",
       "      <td>76561197970982479</td>\n",
       "      <td>http://steamcommunity.com/profiles/76561197970...</td>\n",
       "      <td>22200</td>\n",
       "      <td>True</td>\n",
       "      <td>2011</td>\n",
       "      <td>2</td>\n",
       "    </tr>\n",
       "    <tr>\n",
       "      <th>2</th>\n",
       "      <td>76561197970982479</td>\n",
       "      <td>http://steamcommunity.com/profiles/76561197970...</td>\n",
       "      <td>43110</td>\n",
       "      <td>True</td>\n",
       "      <td>2011</td>\n",
       "      <td>2</td>\n",
       "    </tr>\n",
       "    <tr>\n",
       "      <th>3</th>\n",
       "      <td>js41637</td>\n",
       "      <td>http://steamcommunity.com/id/js41637</td>\n",
       "      <td>251610</td>\n",
       "      <td>True</td>\n",
       "      <td>2014</td>\n",
       "      <td>2</td>\n",
       "    </tr>\n",
       "    <tr>\n",
       "      <th>4</th>\n",
       "      <td>js41637</td>\n",
       "      <td>http://steamcommunity.com/id/js41637</td>\n",
       "      <td>227300</td>\n",
       "      <td>True</td>\n",
       "      <td>2013</td>\n",
       "      <td>0</td>\n",
       "    </tr>\n",
       "  </tbody>\n",
       "</table>\n",
       "</div>"
      ],
      "text/plain": [
       "             user_id                                           user_url  \\\n",
       "0  76561197970982479  http://steamcommunity.com/profiles/76561197970...   \n",
       "1  76561197970982479  http://steamcommunity.com/profiles/76561197970...   \n",
       "2  76561197970982479  http://steamcommunity.com/profiles/76561197970...   \n",
       "3            js41637               http://steamcommunity.com/id/js41637   \n",
       "4            js41637               http://steamcommunity.com/id/js41637   \n",
       "\n",
       "   item_id  recommend  year  sentiment_analysis  \n",
       "0     1250       True  2011                   2  \n",
       "1    22200       True  2011                   2  \n",
       "2    43110       True  2011                   2  \n",
       "3   251610       True  2014                   2  \n",
       "4   227300       True  2013                   0  "
      ]
     },
     "execution_count": 121,
     "metadata": {},
     "output_type": "execute_result"
    }
   ],
   "source": [
    "#Generamos un código a través de la extensión Data Wrangler para la conversión de nuestro tipo de dato \"user_url\" a string\n",
    "def clean_data(df_user_reviews):\n",
    "    df_user_reviews = df_user_reviews.astype({'user_url': 'string'})\n",
    "    return df_user_reviews\n",
    "\n",
    "df_user_reviews = clean_data(df_user_reviews.copy())\n",
    "df_user_reviews.head()"
   ]
  },
  {
   "cell_type": "code",
   "execution_count": 122,
   "metadata": {},
   "outputs": [],
   "source": [
    "df_user_reviews = df_user_reviews.sort_values('item_id')"
   ]
  },
  {
   "cell_type": "code",
   "execution_count": 123,
   "metadata": {},
   "outputs": [
    {
     "data": {
      "text/html": [
       "<div>\n",
       "<style scoped>\n",
       "    .dataframe tbody tr th:only-of-type {\n",
       "        vertical-align: middle;\n",
       "    }\n",
       "\n",
       "    .dataframe tbody tr th {\n",
       "        vertical-align: top;\n",
       "    }\n",
       "\n",
       "    .dataframe thead th {\n",
       "        text-align: right;\n",
       "    }\n",
       "</style>\n",
       "<table border=\"1\" class=\"dataframe\">\n",
       "  <thead>\n",
       "    <tr style=\"text-align: right;\">\n",
       "      <th></th>\n",
       "      <th>user_id</th>\n",
       "      <th>user_url</th>\n",
       "      <th>item_id</th>\n",
       "      <th>recommend</th>\n",
       "      <th>year</th>\n",
       "      <th>sentiment_analysis</th>\n",
       "    </tr>\n",
       "  </thead>\n",
       "  <tbody>\n",
       "    <tr>\n",
       "      <th>29853</th>\n",
       "      <td>Hype_R</td>\n",
       "      <td>http://steamcommunity.com/id/Hype_R</td>\n",
       "      <td>10</td>\n",
       "      <td>True</td>\n",
       "      <td>2014</td>\n",
       "      <td>2</td>\n",
       "    </tr>\n",
       "    <tr>\n",
       "      <th>22237</th>\n",
       "      <td>lanatbeonakeehsasamokoshtan</td>\n",
       "      <td>http://steamcommunity.com/id/lanatbeonakeehsas...</td>\n",
       "      <td>10</td>\n",
       "      <td>True</td>\n",
       "      <td>2014</td>\n",
       "      <td>2</td>\n",
       "    </tr>\n",
       "    <tr>\n",
       "      <th>52416</th>\n",
       "      <td>76561198089673598</td>\n",
       "      <td>http://steamcommunity.com/profiles/76561198089...</td>\n",
       "      <td>10</td>\n",
       "      <td>True</td>\n",
       "      <td>2014</td>\n",
       "      <td>1</td>\n",
       "    </tr>\n",
       "    <tr>\n",
       "      <th>54946</th>\n",
       "      <td>nottynotty</td>\n",
       "      <td>http://steamcommunity.com/id/nottynotty</td>\n",
       "      <td>10</td>\n",
       "      <td>True</td>\n",
       "      <td>2014</td>\n",
       "      <td>1</td>\n",
       "    </tr>\n",
       "    <tr>\n",
       "      <th>36294</th>\n",
       "      <td>76561198134580826</td>\n",
       "      <td>http://steamcommunity.com/profiles/76561198134...</td>\n",
       "      <td>10</td>\n",
       "      <td>True</td>\n",
       "      <td>2014</td>\n",
       "      <td>2</td>\n",
       "    </tr>\n",
       "    <tr>\n",
       "      <th>...</th>\n",
       "      <td>...</td>\n",
       "      <td>...</td>\n",
       "      <td>...</td>\n",
       "      <td>...</td>\n",
       "      <td>...</td>\n",
       "      <td>...</td>\n",
       "    </tr>\n",
       "    <tr>\n",
       "      <th>18097</th>\n",
       "      <td>76561198075141715</td>\n",
       "      <td>http://steamcommunity.com/profiles/76561198075...</td>\n",
       "      <td>521430</td>\n",
       "      <td>True</td>\n",
       "      <td>2014</td>\n",
       "      <td>0</td>\n",
       "    </tr>\n",
       "    <tr>\n",
       "      <th>37071</th>\n",
       "      <td>76561198071122396</td>\n",
       "      <td>http://steamcommunity.com/profiles/76561198071...</td>\n",
       "      <td>521570</td>\n",
       "      <td>True</td>\n",
       "      <td>2014</td>\n",
       "      <td>1</td>\n",
       "    </tr>\n",
       "    <tr>\n",
       "      <th>10360</th>\n",
       "      <td>TfhuAWGscvg</td>\n",
       "      <td>http://steamcommunity.com/id/TfhuAWGscvg</td>\n",
       "      <td>521570</td>\n",
       "      <td>True</td>\n",
       "      <td>2014</td>\n",
       "      <td>0</td>\n",
       "    </tr>\n",
       "    <tr>\n",
       "      <th>14618</th>\n",
       "      <td>mikeyg74</td>\n",
       "      <td>http://steamcommunity.com/id/mikeyg74</td>\n",
       "      <td>521990</td>\n",
       "      <td>True</td>\n",
       "      <td>2014</td>\n",
       "      <td>2</td>\n",
       "    </tr>\n",
       "    <tr>\n",
       "      <th>13924</th>\n",
       "      <td>Limo1300</td>\n",
       "      <td>http://steamcommunity.com/id/Limo1300</td>\n",
       "      <td>527340</td>\n",
       "      <td>True</td>\n",
       "      <td>2014</td>\n",
       "      <td>2</td>\n",
       "    </tr>\n",
       "  </tbody>\n",
       "</table>\n",
       "<p>55313 rows × 6 columns</p>\n",
       "</div>"
      ],
      "text/plain": [
       "                           user_id  \\\n",
       "29853                       Hype_R   \n",
       "22237  lanatbeonakeehsasamokoshtan   \n",
       "52416            76561198089673598   \n",
       "54946                   nottynotty   \n",
       "36294            76561198134580826   \n",
       "...                            ...   \n",
       "18097            76561198075141715   \n",
       "37071            76561198071122396   \n",
       "10360                  TfhuAWGscvg   \n",
       "14618                     mikeyg74   \n",
       "13924                     Limo1300   \n",
       "\n",
       "                                                user_url  item_id  recommend  \\\n",
       "29853                http://steamcommunity.com/id/Hype_R       10       True   \n",
       "22237  http://steamcommunity.com/id/lanatbeonakeehsas...       10       True   \n",
       "52416  http://steamcommunity.com/profiles/76561198089...       10       True   \n",
       "54946            http://steamcommunity.com/id/nottynotty       10       True   \n",
       "36294  http://steamcommunity.com/profiles/76561198134...       10       True   \n",
       "...                                                  ...      ...        ...   \n",
       "18097  http://steamcommunity.com/profiles/76561198075...   521430       True   \n",
       "37071  http://steamcommunity.com/profiles/76561198071...   521570       True   \n",
       "10360           http://steamcommunity.com/id/TfhuAWGscvg   521570       True   \n",
       "14618              http://steamcommunity.com/id/mikeyg74   521990       True   \n",
       "13924              http://steamcommunity.com/id/Limo1300   527340       True   \n",
       "\n",
       "       year  sentiment_analysis  \n",
       "29853  2014                   2  \n",
       "22237  2014                   2  \n",
       "52416  2014                   1  \n",
       "54946  2014                   1  \n",
       "36294  2014                   2  \n",
       "...     ...                 ...  \n",
       "18097  2014                   0  \n",
       "37071  2014                   1  \n",
       "10360  2014                   0  \n",
       "14618  2014                   2  \n",
       "13924  2014                   2  \n",
       "\n",
       "[55313 rows x 6 columns]"
      ]
     },
     "execution_count": 123,
     "metadata": {},
     "output_type": "execute_result"
    }
   ],
   "source": [
    "df_user_reviews"
   ]
  },
  {
   "cell_type": "code",
   "execution_count": 124,
   "metadata": {},
   "outputs": [
    {
     "data": {
      "text/html": [
       "<div>\n",
       "<style scoped>\n",
       "    .dataframe tbody tr th:only-of-type {\n",
       "        vertical-align: middle;\n",
       "    }\n",
       "\n",
       "    .dataframe tbody tr th {\n",
       "        vertical-align: top;\n",
       "    }\n",
       "\n",
       "    .dataframe thead th {\n",
       "        text-align: right;\n",
       "    }\n",
       "</style>\n",
       "<table border=\"1\" class=\"dataframe\">\n",
       "  <thead>\n",
       "    <tr style=\"text-align: right;\">\n",
       "      <th></th>\n",
       "      <th>user_id</th>\n",
       "      <th>user_url</th>\n",
       "      <th>item_id</th>\n",
       "      <th>recommend</th>\n",
       "      <th>year</th>\n",
       "      <th>sentiment_analysis</th>\n",
       "    </tr>\n",
       "  </thead>\n",
       "  <tbody>\n",
       "    <tr>\n",
       "      <th>29853</th>\n",
       "      <td>Hype_R</td>\n",
       "      <td>http://steamcommunity.com/id/Hype_R</td>\n",
       "      <td>10</td>\n",
       "      <td>True</td>\n",
       "      <td>2014</td>\n",
       "      <td>2</td>\n",
       "    </tr>\n",
       "    <tr>\n",
       "      <th>22237</th>\n",
       "      <td>lanatbeonakeehsasamokoshtan</td>\n",
       "      <td>http://steamcommunity.com/id/lanatbeonakeehsas...</td>\n",
       "      <td>10</td>\n",
       "      <td>True</td>\n",
       "      <td>2014</td>\n",
       "      <td>2</td>\n",
       "    </tr>\n",
       "    <tr>\n",
       "      <th>52416</th>\n",
       "      <td>76561198089673598</td>\n",
       "      <td>http://steamcommunity.com/profiles/76561198089...</td>\n",
       "      <td>10</td>\n",
       "      <td>True</td>\n",
       "      <td>2014</td>\n",
       "      <td>1</td>\n",
       "    </tr>\n",
       "    <tr>\n",
       "      <th>54946</th>\n",
       "      <td>nottynotty</td>\n",
       "      <td>http://steamcommunity.com/id/nottynotty</td>\n",
       "      <td>10</td>\n",
       "      <td>True</td>\n",
       "      <td>2014</td>\n",
       "      <td>1</td>\n",
       "    </tr>\n",
       "    <tr>\n",
       "      <th>36294</th>\n",
       "      <td>76561198134580826</td>\n",
       "      <td>http://steamcommunity.com/profiles/76561198134...</td>\n",
       "      <td>10</td>\n",
       "      <td>True</td>\n",
       "      <td>2014</td>\n",
       "      <td>2</td>\n",
       "    </tr>\n",
       "    <tr>\n",
       "      <th>...</th>\n",
       "      <td>...</td>\n",
       "      <td>...</td>\n",
       "      <td>...</td>\n",
       "      <td>...</td>\n",
       "      <td>...</td>\n",
       "      <td>...</td>\n",
       "    </tr>\n",
       "    <tr>\n",
       "      <th>18097</th>\n",
       "      <td>76561198075141715</td>\n",
       "      <td>http://steamcommunity.com/profiles/76561198075...</td>\n",
       "      <td>521430</td>\n",
       "      <td>True</td>\n",
       "      <td>2014</td>\n",
       "      <td>0</td>\n",
       "    </tr>\n",
       "    <tr>\n",
       "      <th>37071</th>\n",
       "      <td>76561198071122396</td>\n",
       "      <td>http://steamcommunity.com/profiles/76561198071...</td>\n",
       "      <td>521570</td>\n",
       "      <td>True</td>\n",
       "      <td>2014</td>\n",
       "      <td>1</td>\n",
       "    </tr>\n",
       "    <tr>\n",
       "      <th>10360</th>\n",
       "      <td>TfhuAWGscvg</td>\n",
       "      <td>http://steamcommunity.com/id/TfhuAWGscvg</td>\n",
       "      <td>521570</td>\n",
       "      <td>True</td>\n",
       "      <td>2014</td>\n",
       "      <td>0</td>\n",
       "    </tr>\n",
       "    <tr>\n",
       "      <th>14618</th>\n",
       "      <td>mikeyg74</td>\n",
       "      <td>http://steamcommunity.com/id/mikeyg74</td>\n",
       "      <td>521990</td>\n",
       "      <td>True</td>\n",
       "      <td>2014</td>\n",
       "      <td>2</td>\n",
       "    </tr>\n",
       "    <tr>\n",
       "      <th>13924</th>\n",
       "      <td>Limo1300</td>\n",
       "      <td>http://steamcommunity.com/id/Limo1300</td>\n",
       "      <td>527340</td>\n",
       "      <td>True</td>\n",
       "      <td>2014</td>\n",
       "      <td>2</td>\n",
       "    </tr>\n",
       "  </tbody>\n",
       "</table>\n",
       "<p>55313 rows × 6 columns</p>\n",
       "</div>"
      ],
      "text/plain": [
       "                           user_id  \\\n",
       "29853                       Hype_R   \n",
       "22237  lanatbeonakeehsasamokoshtan   \n",
       "52416            76561198089673598   \n",
       "54946                   nottynotty   \n",
       "36294            76561198134580826   \n",
       "...                            ...   \n",
       "18097            76561198075141715   \n",
       "37071            76561198071122396   \n",
       "10360                  TfhuAWGscvg   \n",
       "14618                     mikeyg74   \n",
       "13924                     Limo1300   \n",
       "\n",
       "                                                user_url  item_id  recommend  \\\n",
       "29853                http://steamcommunity.com/id/Hype_R       10       True   \n",
       "22237  http://steamcommunity.com/id/lanatbeonakeehsas...       10       True   \n",
       "52416  http://steamcommunity.com/profiles/76561198089...       10       True   \n",
       "54946            http://steamcommunity.com/id/nottynotty       10       True   \n",
       "36294  http://steamcommunity.com/profiles/76561198134...       10       True   \n",
       "...                                                  ...      ...        ...   \n",
       "18097  http://steamcommunity.com/profiles/76561198075...   521430       True   \n",
       "37071  http://steamcommunity.com/profiles/76561198071...   521570       True   \n",
       "10360           http://steamcommunity.com/id/TfhuAWGscvg   521570       True   \n",
       "14618              http://steamcommunity.com/id/mikeyg74   521990       True   \n",
       "13924              http://steamcommunity.com/id/Limo1300   527340       True   \n",
       "\n",
       "       year  sentiment_analysis  \n",
       "29853  2014                   2  \n",
       "22237  2014                   2  \n",
       "52416  2014                   1  \n",
       "54946  2014                   1  \n",
       "36294  2014                   2  \n",
       "...     ...                 ...  \n",
       "18097  2014                   0  \n",
       "37071  2014                   1  \n",
       "10360  2014                   0  \n",
       "14618  2014                   2  \n",
       "13924  2014                   2  \n",
       "\n",
       "[55313 rows x 6 columns]"
      ]
     },
     "execution_count": 124,
     "metadata": {},
     "output_type": "execute_result"
    }
   ],
   "source": [
    "df_user_reviews"
   ]
  },
  {
   "cell_type": "code",
   "execution_count": 125,
   "metadata": {},
   "outputs": [
    {
     "name": "stdout",
     "output_type": "stream",
     "text": [
      "<class 'pandas.core.frame.DataFrame'>\n",
      "Index: 55313 entries, 29853 to 13924\n",
      "Data columns (total 6 columns):\n",
      " #   Column              Non-Null Count  Dtype \n",
      "---  ------              --------------  ----- \n",
      " 0   user_id             55313 non-null  string\n",
      " 1   user_url            55313 non-null  string\n",
      " 2   item_id             55313 non-null  int32 \n",
      " 3   recommend           55313 non-null  bool  \n",
      " 4   year                55313 non-null  int32 \n",
      " 5   sentiment_analysis  55313 non-null  int64 \n",
      "dtypes: bool(1), int32(2), int64(1), string(2)\n",
      "memory usage: 2.2 MB\n"
     ]
    }
   ],
   "source": [
    "df_user_reviews.info()"
   ]
  },
  {
   "cell_type": "code",
   "execution_count": 126,
   "metadata": {},
   "outputs": [],
   "source": [
    "df_user_reviews.to_parquet('user_reviews.parquet')"
   ]
  }
 ],
 "metadata": {
  "kernelspec": {
   "display_name": "Python 3",
   "language": "python",
   "name": "python3"
  },
  "language_info": {
   "codemirror_mode": {
    "name": "ipython",
    "version": 3
   },
   "file_extension": ".py",
   "mimetype": "text/x-python",
   "name": "python",
   "nbconvert_exporter": "python",
   "pygments_lexer": "ipython3",
   "version": "3.10.11"
  }
 },
 "nbformat": 4,
 "nbformat_minor": 2
}
