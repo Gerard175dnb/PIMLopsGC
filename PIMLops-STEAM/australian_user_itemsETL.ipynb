{
 "cells": [
  {
   "cell_type": "markdown",
   "metadata": {},
   "source": [
    "# *ETL para el archivo user_items*"
   ]
  },
  {
   "cell_type": "markdown",
   "metadata": {},
   "source": [
    "importamos las librerias para nuestra limpieza"
   ]
  },
  {
   "cell_type": "code",
   "execution_count": 5,
   "metadata": {},
   "outputs": [],
   "source": [
    "import ast\n",
    "import numpy as np\n",
    "import pandas as pd \n",
    "import matplotlib.pyplot as plt\n",
    "import json\n",
    "import warnings\n",
    "warnings.filterwarnings('ignore')"
   ]
  },
  {
   "cell_type": "code",
   "execution_count": 6,
   "metadata": {},
   "outputs": [],
   "source": [
    "#Crear una lista vacía llamada \"rows\" donde almacenaremos los datos del archivo JSON.\n",
    "rows = []\n",
    "#Abrir el archivo \"user_reviews.json/australian_user_reviews.json\" con la codificación MacRoman.\n",
    "with open(\"D:/HENRY\\ProyectoPIMLops/PIMLops-STEAM/JSON/australian_users_items.json\", encoding='MacRoman') as f:\n",
    "    # Leer cada línea del archivo.\n",
    "    for line in f.readlines():\n",
    "        # Utilizar \"ast.literal_eval\" para convertir cada línea en un diccionario de Python\n",
    "        # y agregarlo a la lista \"rows\".\n",
    "        rows.append(ast.literal_eval(line))\n",
    "#Crear un DataFrame de Pandas a partir de la lista de diccionarios \"rows\".\n",
    "df_items = pd.DataFrame(rows)"
   ]
  },
  {
   "cell_type": "markdown",
   "metadata": {},
   "source": [
    "desanidamos \"items\""
   ]
  },
  {
   "cell_type": "code",
   "execution_count": 7,
   "metadata": {},
   "outputs": [],
   "source": [
    "# Desanidamos la columna 'items'\n",
    "df_items_clean = pd.json_normalize(df_items['items'].explode())"
   ]
  },
  {
   "cell_type": "code",
   "execution_count": 8,
   "metadata": {},
   "outputs": [],
   "source": [
    "# Ahora unimos el DataFrame expandido con el original\n",
    "df_items = df_items.drop('items', axis=1)\n",
    "df_items= df_items_clean.join(df_items)"
   ]
  },
  {
   "cell_type": "markdown",
   "metadata": {},
   "source": [
    "Eliminamos los nulos y los datos donde \"user_id\" es nulo e \"items_count\" significa que no posee juegos"
   ]
  },
  {
   "cell_type": "code",
   "execution_count": 9,
   "metadata": {},
   "outputs": [],
   "source": [
    "# Eliminar las filas donde todas las columnas son nulas\n",
    "df_items = df_items.dropna(how='all')\n",
    "# Eliminar las filas donde 'user_id' o 'items_count' son nulos\n",
    "df_items= df_items.dropna(subset=['user_id', 'items_count'])"
   ]
  },
  {
   "cell_type": "code",
   "execution_count": 10,
   "metadata": {},
   "outputs": [],
   "source": [
    "df_items = df_items.dropna(subset=['items_count'])"
   ]
  },
  {
   "cell_type": "markdown",
   "metadata": {},
   "source": [
    "Eliminamos a los usuarios que no poseen juegos, ya que no aportan datos relevantes a nuestro análisis"
   ]
  },
  {
   "cell_type": "code",
   "execution_count": 11,
   "metadata": {},
   "outputs": [],
   "source": [
    "# Elimina los usuarios que no poseen juegos (items_count igual a 0)\n",
    "df_items = df_items[df_items['items_count'] > 0]"
   ]
  },
  {
   "cell_type": "code",
   "execution_count": 12,
   "metadata": {},
   "outputs": [
    {
     "data": {
      "text/plain": [
       "item_id             112\n",
       "item_name           112\n",
       "playtime_forever    112\n",
       "playtime_2weeks     112\n",
       "user_id               0\n",
       "items_count           0\n",
       "steam_id              0\n",
       "user_url              0\n",
       "dtype: int64"
      ]
     },
     "execution_count": 12,
     "metadata": {},
     "output_type": "execute_result"
    }
   ],
   "source": [
    "df_items.isna().sum()"
   ]
  },
  {
   "cell_type": "markdown",
   "metadata": {},
   "source": [
    "# Procedemos a eliminar las columnas que no son relevantes para nuestro futuro modelo"
   ]
  },
  {
   "cell_type": "code",
   "execution_count": 13,
   "metadata": {},
   "outputs": [],
   "source": [
    "df_items.drop(columns=[\"playtime_2weeks\",\"user_url\",\"steam_id\"], inplace=True)"
   ]
  },
  {
   "cell_type": "markdown",
   "metadata": {},
   "source": [
    "Eliminamos los nulos ya que son irrelevantes, son usuarios que tienen juegos pero no jugaron nunca, y no hay informacion del juego"
   ]
  },
  {
   "cell_type": "code",
   "execution_count": 14,
   "metadata": {},
   "outputs": [],
   "source": [
    "df_items.dropna(inplace=True)"
   ]
  },
  {
   "cell_type": "markdown",
   "metadata": {},
   "source": [
    "### realizamos la siguiente transformacion:\n",
    "\n",
    "*Observando nuestro modelo, en nuestra funcion estábamos consumiendo mucha memoria para render, con lo cual decidimos pasar la división de \"Playtime_forever\" sobre 60 para tener horas, dentro de éste ETL*"
   ]
  },
  {
   "cell_type": "code",
   "execution_count": 15,
   "metadata": {},
   "outputs": [],
   "source": [
    "def convert_playtime_to_hours(df_items):\n",
    "    df_items['playtime_forever'] = df_items['playtime_forever'] / 60\n",
    "    return df_items\n",
    "df_items = convert_playtime_to_hours(df_items)"
   ]
  },
  {
   "cell_type": "markdown",
   "metadata": {},
   "source": [
    "Realizamos la conversión de tipos de dato para nuestro futuro modelo / eda"
   ]
  },
  {
   "cell_type": "code",
   "execution_count": 16,
   "metadata": {},
   "outputs": [],
   "source": [
    "df_items['item_id'] = df_items['item_id'].astype(int)\n",
    "df_items = df_items.astype({'item_name': 'string'})"
   ]
  },
  {
   "cell_type": "code",
   "execution_count": 17,
   "metadata": {},
   "outputs": [],
   "source": [
    "#eliminamos a los usuarios que no tengan tiempo de juego \n",
    "df_items = df_items[df_items['playtime_forever'] != 0]"
   ]
  },
  {
   "cell_type": "code",
   "execution_count": 18,
   "metadata": {},
   "outputs": [],
   "source": [
    "df_items.to_parquet('user_items.parquet')"
   ]
  }
 ],
 "metadata": {
  "kernelspec": {
   "display_name": "Python 3",
   "language": "python",
   "name": "python3"
  },
  "language_info": {
   "codemirror_mode": {
    "name": "ipython",
    "version": 3
   },
   "file_extension": ".py",
   "mimetype": "text/x-python",
   "name": "python",
   "nbconvert_exporter": "python",
   "pygments_lexer": "ipython3",
   "version": "3.10.11"
  }
 },
 "nbformat": 4,
 "nbformat_minor": 2
}
